{
 "cells": [
  {
   "cell_type": "code",
   "execution_count": 1,
   "id": "030e32d8",
   "metadata": {},
   "outputs": [],
   "source": [
    "from fastai import *"
   ]
  },
  {
   "cell_type": "code",
   "execution_count": 2,
   "id": "ef8f2bac",
   "metadata": {},
   "outputs": [],
   "source": [
    "fastai.__version__"
   ]
  },
  {
   "cell_type": "code",
   "execution_count": 3,
   "id": "707be868",
   "metadata": {},
   "outputs": [],
   "source": [
    "import fastai"
   ]
  },
  {
   "cell_type": "code",
   "execution_count": 4,
   "id": "1c8f5c13",
   "metadata": {},
   "outputs": [
    {
     "name": "stdout",
     "output_type": "stream",
     "text": [
      "'1.0.61'"
     ]
    }
   ],
   "source": [
    "fastai.__version__"
   ]
  },
  {
   "cell_type": "code",
   "execution_count": 5,
   "id": "32fefd80",
   "metadata": {},
   "outputs": [],
   "source": [
    "DataBunch"
   ]
  },
  {
   "cell_type": "code",
   "execution_count": 6,
   "id": "b4153059",
   "metadata": {},
   "outputs": [],
   "source": [
    "databunch = DataBunch.create(train_ds, test_ds=test_ds, bs=bs)"
   ]
  },
  {
   "cell_type": "code",
   "execution_count": 7,
   "id": "fab8454b",
   "metadata": {},
   "outputs": [],
   "source": [
    "from fastai import *"
   ]
  },
  {
   "cell_type": "code",
   "execution_count": 8,
   "id": "9a1cb618",
   "metadata": {},
   "outputs": [],
   "source": [
    "databunch = DataBunch.create(train_ds, test_ds=test_ds, bs=bs)"
   ]
  },
  {
   "cell_type": "code",
   "execution_count": 9,
   "id": "a4fab870",
   "metadata": {},
   "outputs": [],
   "source": [
    "from fastai.vision import *"
   ]
  },
  {
   "cell_type": "code",
   "execution_count": 10,
   "id": "00eee203",
   "metadata": {},
   "outputs": [],
   "source": [
    "databunch = DataBunch.create(train_ds, test_ds=test_ds, bs=bs)"
   ]
  },
  {
   "cell_type": "code",
   "execution_count": 11,
   "id": "8f237a1f",
   "metadata": {},
   "outputs": [],
   "source": [
    "%run train.py --config-key tav"
   ]
  },
  {
   "cell_type": "code",
   "execution_count": 12,
   "id": "07618c47",
   "metadata": {},
   "outputs": [],
   "source": [
    "%run train.py --config-key tav"
   ]
  }
 ],
 "metadata": {
  "kernelspec": {
   "display_name": "Python 3",
   "language": "python",
   "name": "python3"
  },
  "language_info": {
   "name": "python",
   "version": "3.7.2 (default, Dec 29 2018, 06:19:36) \n[GCC 7.3.0]"
  }
 },
 "nbformat": 4,
 "nbformat_minor": 5
}
